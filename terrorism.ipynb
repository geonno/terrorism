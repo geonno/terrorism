{
 "cells": [
  {
   "cell_type": "markdown",
   "id": "70bed44b",
   "metadata": {},
   "source": [
    "## 모듈 임포트"
   ]
  },
  {
   "cell_type": "code",
   "execution_count": 25,
   "id": "f326f8cb",
   "metadata": {},
   "outputs": [],
   "source": [
    "import pandas as pd\n",
    "from tqdm.notebook import tqdm"
   ]
  },
  {
   "cell_type": "markdown",
   "id": "5ac8dcf4",
   "metadata": {},
   "source": [
    "## 1. 데이터 전처리"
   ]
  },
  {
   "cell_type": "markdown",
   "id": "1c85eee0",
   "metadata": {},
   "source": [
    "1. 필요없는 컬럼 삭제\n",
    "2. 5년 단위로 나누기"
   ]
  },
  {
   "cell_type": "code",
   "execution_count": 72,
   "id": "c72ea90b",
   "metadata": {},
   "outputs": [],
   "source": [
    "df = pd.read_excel(\"gtdb70-20.xlsx\")"
   ]
  },
  {
   "cell_type": "code",
   "execution_count": 75,
   "id": "e757cdcb",
   "metadata": {},
   "outputs": [],
   "source": [
    "df.drop(['eventid','imonth', 'iday','latitude', 'longitude','targtype1', 'targtype1_txt', 'targsubtype1',\n",
    "       'targsubtype1_txt', 'corp1', 'target1','natlty1', 'natlty1_txt','propextent', 'propextent_txt',\n",
    "       'propvalue', 'dbsource','weapdetail'], axis=1, inplace=True)"
   ]
  },
  {
   "cell_type": "code",
   "execution_count": 77,
   "id": "3a444ef4",
   "metadata": {},
   "outputs": [],
   "source": [
    "df.sort_values('iyear', inplace=True)"
   ]
  },
  {
   "cell_type": "code",
   "execution_count": 82,
   "id": "fb707892",
   "metadata": {},
   "outputs": [],
   "source": [
    "df.drop(df.index[:71658], inplace =True)"
   ]
  },
  {
   "cell_type": "code",
   "execution_count": 84,
   "id": "443b484e",
   "metadata": {},
   "outputs": [],
   "source": [
    "df.reset_index(drop=True, inplace=True)"
   ]
  },
  {
   "cell_type": "code",
   "execution_count": 93,
   "id": "33aa07ec",
   "metadata": {},
   "outputs": [],
   "source": [
    "dfa = df[:7702]\n",
    "dfb = df[7702:28060]\n",
    "dfc = df[28060:85805]\n",
    "dfd = df[85805:]"
   ]
  },
  {
   "cell_type": "code",
   "execution_count": 98,
   "id": "20b8f906",
   "metadata": {},
   "outputs": [],
   "source": [
    "dfa.reset_index(drop=True, inplace=True)\n",
    "dfb.reset_index(drop=True, inplace=True)\n",
    "dfc.reset_index(drop=True, inplace=True)\n",
    "dfd.reset_index(drop=True, inplace=True)"
   ]
  },
  {
   "cell_type": "markdown",
   "id": "bb9f4ac6",
   "metadata": {},
   "source": [
    "## 2. 통계분석"
   ]
  },
  {
   "cell_type": "code",
   "execution_count": null,
   "id": "7b16cc84",
   "metadata": {},
   "outputs": [],
   "source": []
  }
 ],
 "metadata": {
  "kernelspec": {
   "display_name": "Python 3 (ipykernel)",
   "language": "python",
   "name": "python3"
  },
  "language_info": {
   "codemirror_mode": {
    "name": "ipython",
    "version": 3
   },
   "file_extension": ".py",
   "mimetype": "text/x-python",
   "name": "python",
   "nbconvert_exporter": "python",
   "pygments_lexer": "ipython3",
   "version": "3.10.9"
  }
 },
 "nbformat": 4,
 "nbformat_minor": 5
}
