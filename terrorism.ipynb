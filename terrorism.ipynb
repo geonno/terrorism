{
 "cells": [
  {
   "cell_type": "code",
   "execution_count": 1,
   "id": "f326f8cb",
   "metadata": {},
   "outputs": [],
   "source": [
    "import pandas as pd"
   ]
  },
  {
   "cell_type": "code",
   "execution_count": 3,
   "id": "c72ea90b",
   "metadata": {},
   "outputs": [],
   "source": [
    "df = pd.read_excel(\"E:/백업/경찰대학/4-1/경비론/gtdb.xlsx\")"
   ]
  },
  {
   "cell_type": "code",
   "execution_count": 12,
   "id": "c5c24d23",
   "metadata": {},
   "outputs": [
    {
     "data": {
      "text/plain": [
       "array(['Middle East & North Africa', 'South Asia', 'Sub-Saharan Africa',\n",
       "       'North America', 'Southeast Asia', 'Western Europe',\n",
       "       'Central America & Caribbean', 'South America', 'East Asia',\n",
       "       'Australasia & Oceania', 'Eastern Europe'], dtype=object)"
      ]
     },
     "execution_count": 12,
     "metadata": {},
     "output_type": "execute_result"
    }
   ],
   "source": [
    "df[\"region_txt\"].unique()"
   ]
  },
  {
   "cell_type": "code",
   "execution_count": 13,
   "id": "2a420962",
   "metadata": {},
   "outputs": [
    {
     "data": {
      "text/plain": [
       "array(['Egypt', 'India', 'Yemen', 'Afghanistan', 'Somalia', 'Syria',\n",
       "       'Central African Republic', 'United States', 'Cameroon',\n",
       "       'Philippines', 'Iraq', 'West Bank and Gaza Strip',\n",
       "       'United Kingdom', 'Pakistan', 'Kenya', 'Turkey', 'Mali',\n",
       "       'Thailand', 'Saudi Arabia', 'Bangladesh', 'Sudan', 'Germany',\n",
       "       'Nigeria', 'Greece', 'Democratic Republic of the Congo', 'Libya',\n",
       "       'Israel', 'France', 'Italy', 'Myanmar', 'Niger', 'Burkina Faso',\n",
       "       'Guatemala', 'Ivory Coast', 'Chile', 'Burundi', 'Ethiopia',\n",
       "       'Colombia', 'Mozambique', 'Indonesia', 'Netherlands',\n",
       "       'South Africa', 'Uganda', 'Mexico', 'Algeria', 'Djibouti',\n",
       "       'Sweden', 'China', 'Venezuela', 'Nepal', 'Western Sahara',\n",
       "       'Australia', 'Brazil', 'South Sudan', 'El Salvador', 'Tunisia',\n",
       "       'Lebanon', 'Benin', 'Argentina', 'Estonia', 'Ukraine', 'Spain',\n",
       "       'Iran', 'Kosovo', 'Liberia', 'Peru', 'Ireland', 'Chad', 'Serbia',\n",
       "       'Albania', 'Paraguay', 'Latvia', 'Sri Lanka', 'Switzerland',\n",
       "       'Maldives', 'Belgium', 'Ghana', 'Rwanda', 'Canada', 'Zambia'],\n",
       "      dtype=object)"
      ]
     },
     "execution_count": 13,
     "metadata": {},
     "output_type": "execute_result"
    }
   ],
   "source": [
    "df[\"country_txt\"].unique()"
   ]
  }
 ],
 "metadata": {
  "kernelspec": {
   "display_name": "Python 3 (ipykernel)",
   "language": "python",
   "name": "python3"
  },
  "language_info": {
   "codemirror_mode": {
    "name": "ipython",
    "version": 3
   },
   "file_extension": ".py",
   "mimetype": "text/x-python",
   "name": "python",
   "nbconvert_exporter": "python",
   "pygments_lexer": "ipython3",
   "version": "3.10.9"
  }
 },
 "nbformat": 4,
 "nbformat_minor": 5
}
