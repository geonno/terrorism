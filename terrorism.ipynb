{
 "cells": [
  {
   "cell_type": "markdown",
   "id": "70bed44b",
   "metadata": {},
   "source": [
    "## 모듈 임포트"
   ]
  },
  {
   "cell_type": "code",
   "execution_count": 2,
   "id": "f326f8cb",
   "metadata": {},
   "outputs": [],
   "source": [
    "import pandas as pd\n",
    "from tqdm.notebook import tqdm\n",
    "import matplotlib.pyplot as plt"
   ]
  },
  {
   "cell_type": "markdown",
   "id": "5ac8dcf4",
   "metadata": {},
   "source": [
    "## 1. 데이터 전처리"
   ]
  },
  {
   "cell_type": "markdown",
   "id": "1c85eee0",
   "metadata": {},
   "source": [
    "1. 필요없는 컬럼 삭제\n",
    "2. 5년 단위로 나누기"
   ]
  },
  {
   "cell_type": "code",
   "execution_count": 3,
   "id": "c72ea90b",
   "metadata": {},
   "outputs": [],
   "source": [
    "df = pd.read_excel(\"E:/백업/경찰대학/4-1/경비론/gtdb70-20.xlsx\")"
   ]
  },
  {
   "cell_type": "code",
   "execution_count": 4,
   "id": "e757cdcb",
   "metadata": {},
   "outputs": [],
   "source": [
    "df.drop(['eventid','imonth', 'iday','latitude', 'longitude','targtype1', 'targtype1_txt', 'targsubtype1',\n",
    "       'targsubtype1_txt', 'corp1', 'target1','natlty1', 'natlty1_txt','propextent', 'propextent_txt',\n",
    "       'propvalue', 'dbsource','weapdetail'], axis=1, inplace=True)"
   ]
  },
  {
   "cell_type": "code",
   "execution_count": 5,
   "id": "3a444ef4",
   "metadata": {},
   "outputs": [],
   "source": [
    "df.sort_values('iyear', inplace=True)"
   ]
  },
  {
   "cell_type": "code",
   "execution_count": 6,
   "id": "fb707892",
   "metadata": {},
   "outputs": [],
   "source": [
    "df.drop(df.index[:71658], inplace =True)"
   ]
  },
  {
   "cell_type": "code",
   "execution_count": 7,
   "id": "443b484e",
   "metadata": {},
   "outputs": [],
   "source": [
    "df.reset_index(drop=True, inplace=True)"
   ]
  },
  {
   "cell_type": "code",
   "execution_count": 8,
   "id": "33aa07ec",
   "metadata": {},
   "outputs": [],
   "source": [
    "dfa = df[:7702]\n",
    "dfb = df[7702:28060]\n",
    "dfc = df[28060:85805]\n",
    "dfd = df[85805:]"
   ]
  },
  {
   "cell_type": "code",
   "execution_count": 9,
   "id": "20b8f906",
   "metadata": {},
   "outputs": [],
   "source": [
    "dfa.reset_index(drop=True, inplace=True)\n",
    "dfb.reset_index(drop=True, inplace=True)\n",
    "dfc.reset_index(drop=True, inplace=True)\n",
    "dfd.reset_index(drop=True, inplace=True)"
   ]
  },
  {
   "cell_type": "markdown",
   "id": "bb9f4ac6",
   "metadata": {},
   "source": [
    "## 2.1 통계분석 - 대륙별 통계분석"
   ]
  },
  {
   "cell_type": "markdown",
   "id": "b508ec65",
   "metadata": {},
   "source": [
    "1 = North America\n",
    "2 = Central America & Caribbean\n",
    "3 = South America\n",
    "4 = East Asia\n",
    "5 = Southeast Asia\n",
    "6 = South Asia\n",
    "7 = Central Asia\n",
    "8 = Western Europe\n",
    "9 = Eastern Europe\n",
    "10 = Middle East & North Africa\n",
    "11 = Sub-Saharan Africa\n",
    "12 = Australasia & Oceania\n",
    "\n",
    "1..3 -> america\n",
    "4..7 -> asia\n",
    "8..9 -> europe\n",
    "10..11 -> africa\n",
    "12 -> Australasia & Oceania"
   ]
  },
  {
   "cell_type": "markdown",
   "id": "86b6d49d",
   "metadata": {},
   "source": [
    "### 2.1.1 대륙별 테러 수 통계내기"
   ]
  },
  {
   "cell_type": "markdown",
   "id": "febbed56",
   "metadata": {},
   "source": [
    "#### 2.1.1.1 2001~2005"
   ]
  },
  {
   "cell_type": "code",
   "execution_count": 10,
   "id": "c3a58f2e",
   "metadata": {
    "scrolled": true
   },
   "outputs": [
    {
     "data": {
      "application/vnd.jupyter.widget-view+json": {
       "model_id": "fb458b422af64669985733471bda2dc9",
       "version_major": 2,
       "version_minor": 0
      },
      "text/plain": [
       "  0%|          | 0/7702 [00:00<?, ?it/s]"
      ]
     },
     "metadata": {},
     "output_type": "display_data"
    },
    {
     "data": {
      "image/png": "[encoded data removed]",
      "text/plain": [
       "<Figure size 640x480 with 1 Axes>"
      ]
     },
     "metadata": {},
     "output_type": "display_data"
    }
   ],
   "source": [
    "america = 0\n",
    "asia = 0\n",
    "europe = 0\n",
    "africa = 0\n",
    "oceania = 0\n",
    "for i in tqdm(range(len(dfa))):\n",
    "    if dfa['region'][i]<=3:\n",
    "            america += 1\n",
    "    elif dfa['region'][i]<=7:\n",
    "            asia += 1\n",
    "    elif dfa['region'][i]<=9:\n",
    "            europe += 1\n",
    "    elif dfa['region'][i]<=11:\n",
    "            africa += 1\n",
    "    else:\n",
    "            oceania += 1    \n",
    "x = ['america', 'asia', 'europe', 'africa', 'oceania&australasia']\n",
    "y = [america, asia, europe, africa, oceania]\n",
    "plt.bar(x,y)\n",
    "for i, v in enumerate(x):\n",
    "    plt.text(v, y[i], y[i],                 # 좌표 (x축 = v, y축 = y[0]..y[1], 표시 = y[0]..y[1])\n",
    "             fontsize = 9, \n",
    "             color='blue',\n",
    "             horizontalalignment='center',  # horizontalalignment (left, center, right)\n",
    "             verticalalignment='bottom')    # verticalalignment (top, center, bottom)\n",
    "\n",
    "plt.show()"
   ]
  },
  {
   "cell_type": "markdown",
   "id": "6d17a7d3",
   "metadata": {},
   "source": [
    "#### 2.1.1.1 2006~2010"
   ]
  },
  {
   "cell_type": "code",
   "execution_count": 11,
   "id": "1bbd6806",
   "metadata": {},
   "outputs": [
    {
     "data": {
      "application/vnd.jupyter.widget-view+json": {
       "model_id": "97951c89a92e44b8b6b9be6c84d4a208",
       "version_major": 2,
       "version_minor": 0
      },
      "text/plain": [
       "  0%|          | 0/20358 [00:00<?, ?it/s]"
      ]
     },
     "metadata": {},
     "output_type": "display_data"
    },
    {
     "ename": "KeyError",
     "evalue": "7702",
     "output_type": "error",
     "traceback": [
      "\u001b[1;31m---------------------------------------------------------------------------\u001b[0m",
      "\u001b[1;31mValueError\u001b[0m                                Traceback (most recent call last)",
      "File \u001b[1;32mC:\\Python311\\Lib\\site-packages\\pandas\\core\\indexes\\range.py:345\u001b[0m, in \u001b[0;36mRangeIndex.get_loc\u001b[1;34m(self, key)\u001b[0m\n\u001b[0;32m    344\u001b[0m \u001b[38;5;28;01mtry\u001b[39;00m:\n\u001b[1;32m--> 345\u001b[0m     \u001b[38;5;28;01mreturn\u001b[39;00m \u001b[38;5;28mself\u001b[39m\u001b[38;5;241m.\u001b[39m_range\u001b[38;5;241m.\u001b[39mindex(new_key)\n\u001b[0;32m    346\u001b[0m \u001b[38;5;28;01mexcept\u001b[39;00m \u001b[38;5;167;01mValueError\u001b[39;00m \u001b[38;5;28;01mas\u001b[39;00m err:\n",
      "\u001b[1;31mValueError\u001b[0m: 7702 is not in range",
      "\nThe above exception was the direct cause of the following exception:\n",
      "\u001b[1;31mKeyError\u001b[0m                                  Traceback (most recent call last)",
      "Cell \u001b[1;32mIn[11], line 7\u001b[0m\n\u001b[0;32m      5\u001b[0m oceania \u001b[38;5;241m=\u001b[39m \u001b[38;5;241m0\u001b[39m\n\u001b[0;32m      6\u001b[0m \u001b[38;5;28;01mfor\u001b[39;00m i \u001b[38;5;129;01min\u001b[39;00m tqdm(\u001b[38;5;28mrange\u001b[39m(\u001b[38;5;28mlen\u001b[39m(dfb))):\n\u001b[1;32m----> 7\u001b[0m     \u001b[38;5;28;01mif\u001b[39;00m \u001b[43mdfa\u001b[49m\u001b[43m[\u001b[49m\u001b[38;5;124;43m'\u001b[39;49m\u001b[38;5;124;43mregion\u001b[39;49m\u001b[38;5;124;43m'\u001b[39;49m\u001b[43m]\u001b[49m\u001b[43m[\u001b[49m\u001b[43mi\u001b[49m\u001b[43m]\u001b[49m\u001b[38;5;241m<\u001b[39m\u001b[38;5;241m=\u001b[39m\u001b[38;5;241m3\u001b[39m:\n\u001b[0;32m      8\u001b[0m             america \u001b[38;5;241m+\u001b[39m\u001b[38;5;241m=\u001b[39m \u001b[38;5;241m1\u001b[39m\n\u001b[0;32m      9\u001b[0m     \u001b[38;5;28;01melif\u001b[39;00m dfa[\u001b[38;5;124m'\u001b[39m\u001b[38;5;124mregion\u001b[39m\u001b[38;5;124m'\u001b[39m][i]\u001b[38;5;241m<\u001b[39m\u001b[38;5;241m=\u001b[39m\u001b[38;5;241m7\u001b[39m:\n",
      "File \u001b[1;32mC:\\Python311\\Lib\\site-packages\\pandas\\core\\series.py:1007\u001b[0m, in \u001b[0;36mSeries.__getitem__\u001b[1;34m(self, key)\u001b[0m\n\u001b[0;32m   1004\u001b[0m     \u001b[38;5;28;01mreturn\u001b[39;00m \u001b[38;5;28mself\u001b[39m\u001b[38;5;241m.\u001b[39m_values[key]\n\u001b[0;32m   1006\u001b[0m \u001b[38;5;28;01melif\u001b[39;00m key_is_scalar:\n\u001b[1;32m-> 1007\u001b[0m     \u001b[38;5;28;01mreturn\u001b[39;00m \u001b[38;5;28;43mself\u001b[39;49m\u001b[38;5;241;43m.\u001b[39;49m\u001b[43m_get_value\u001b[49m\u001b[43m(\u001b[49m\u001b[43mkey\u001b[49m\u001b[43m)\u001b[49m\n\u001b[0;32m   1009\u001b[0m \u001b[38;5;28;01mif\u001b[39;00m is_hashable(key):\n\u001b[0;32m   1010\u001b[0m     \u001b[38;5;66;03m# Otherwise index.get_value will raise InvalidIndexError\u001b[39;00m\n\u001b[0;32m   1011\u001b[0m     \u001b[38;5;28;01mtry\u001b[39;00m:\n\u001b[0;32m   1012\u001b[0m         \u001b[38;5;66;03m# For labels that don't resolve as scalars like tuples and frozensets\u001b[39;00m\n",
      "File \u001b[1;32mC:\\Python311\\Lib\\site-packages\\pandas\\core\\series.py:1116\u001b[0m, in \u001b[0;36mSeries._get_value\u001b[1;34m(self, label, takeable)\u001b[0m\n\u001b[0;32m   1113\u001b[0m     \u001b[38;5;28;01mreturn\u001b[39;00m \u001b[38;5;28mself\u001b[39m\u001b[38;5;241m.\u001b[39m_values[label]\n\u001b[0;32m   1115\u001b[0m \u001b[38;5;66;03m# Similar to Index.get_value, but we do not fall back to positional\u001b[39;00m\n\u001b[1;32m-> 1116\u001b[0m loc \u001b[38;5;241m=\u001b[39m \u001b[38;5;28;43mself\u001b[39;49m\u001b[38;5;241;43m.\u001b[39;49m\u001b[43mindex\u001b[49m\u001b[38;5;241;43m.\u001b[39;49m\u001b[43mget_loc\u001b[49m\u001b[43m(\u001b[49m\u001b[43mlabel\u001b[49m\u001b[43m)\u001b[49m\n\u001b[0;32m   1118\u001b[0m \u001b[38;5;28;01mif\u001b[39;00m is_integer(loc):\n\u001b[0;32m   1119\u001b[0m     \u001b[38;5;28;01mreturn\u001b[39;00m \u001b[38;5;28mself\u001b[39m\u001b[38;5;241m.\u001b[39m_values[loc]\n",
      "File \u001b[1;32mC:\\Python311\\Lib\\site-packages\\pandas\\core\\indexes\\range.py:347\u001b[0m, in \u001b[0;36mRangeIndex.get_loc\u001b[1;34m(self, key)\u001b[0m\n\u001b[0;32m    345\u001b[0m         \u001b[38;5;28;01mreturn\u001b[39;00m \u001b[38;5;28mself\u001b[39m\u001b[38;5;241m.\u001b[39m_range\u001b[38;5;241m.\u001b[39mindex(new_key)\n\u001b[0;32m    346\u001b[0m     \u001b[38;5;28;01mexcept\u001b[39;00m \u001b[38;5;167;01mValueError\u001b[39;00m \u001b[38;5;28;01mas\u001b[39;00m err:\n\u001b[1;32m--> 347\u001b[0m         \u001b[38;5;28;01mraise\u001b[39;00m \u001b[38;5;167;01mKeyError\u001b[39;00m(key) \u001b[38;5;28;01mfrom\u001b[39;00m \u001b[38;5;21;01merr\u001b[39;00m\n\u001b[0;32m    348\u001b[0m \u001b[38;5;28;01mif\u001b[39;00m \u001b[38;5;28misinstance\u001b[39m(key, Hashable):\n\u001b[0;32m    349\u001b[0m     \u001b[38;5;28;01mraise\u001b[39;00m \u001b[38;5;167;01mKeyError\u001b[39;00m(key)\n",
      "\u001b[1;31mKeyError\u001b[0m: 7702"
     ]
    }
   ],
   "source": [
    "america = 0\n",
    "asia = 0\n",
    "europe = 0\n",
    "africa = 0\n",
    "oceania = 0\n",
    "for i in tqdm(range(len(dfb))):\n",
    "    if dfa['region'][i]<=3:\n",
    "            america += 1\n",
    "    elif dfa['region'][i]<=7:\n",
    "            asia += 1\n",
    "    elif dfa['region'][i]<=9:\n",
    "            europe += 1\n",
    "    elif dfa['region'][i]<=11:\n",
    "            africa += 1\n",
    "    else:\n",
    "            oceania += 1    \n",
    "x = ['america', 'asia', 'europe', 'africa', 'oceania&australasia']\n",
    "y = [america, asia, europe, africa, oceania]\n",
    "plt.bar(x,y)\n",
    "for i, v in enumerate(x):\n",
    "    plt.text(v, y[i], y[i],                 # 좌표 (x축 = v, y축 = y[0]..y[1], 표시 = y[0]..y[1])\n",
    "             fontsize = 9, \n",
    "             color='blue',\n",
    "             horizontalalignment='center',  # horizontalalignment (left, center, right)\n",
    "             verticalalignment='bottom')    # verticalalignment (top, center, bottom)\n",
    "\n",
    "plt.show()"
   ]
  },
  {
   "cell_type": "markdown",
   "id": "f7377398",
   "metadata": {},
   "source": [
    "#### 2.1.1.1 2011~2015"
   ]
  },
  {
   "cell_type": "code",
   "execution_count": null,
   "id": "616f03a0",
   "metadata": {},
   "outputs": [],
   "source": [
    "america = 0\n",
    "asia = 0\n",
    "europe = 0\n",
    "africa = 0\n",
    "oceania = 0\n",
    "for i in tqdm(range(len(dfc))):\n",
    "    if dfa['region'][i]<=3:\n",
    "            america += 1\n",
    "    elif dfa['region'][i]<=7:\n",
    "            asia += 1\n",
    "    elif dfa['region'][i]<=9:\n",
    "            europe += 1\n",
    "    elif dfa['region'][i]<=11:\n",
    "            africa += 1\n",
    "    else:\n",
    "            oceania += 1    \n",
    "x = ['america', 'asia', 'europe', 'africa', 'oceania&australasia']\n",
    "y = [america, asia, europe, africa, oceania]\n",
    "plt.bar(x,y)\n",
    "for i, v in enumerate(x):\n",
    "    plt.text(v, y[i], y[i],                 # 좌표 (x축 = v, y축 = y[0]..y[1], 표시 = y[0]..y[1])\n",
    "             fontsize = 9, \n",
    "             color='blue',\n",
    "             horizontalalignment='center',  # horizontalalignment (left, center, right)\n",
    "             verticalalignment='bottom')    # verticalalignment (top, center, bottom)\n",
    "\n",
    "plt.show()"
   ]
  },
  {
   "cell_type": "markdown",
   "id": "a7d60cbb",
   "metadata": {},
   "source": [
    "#### 2.1.1.1 2016~2020"
   ]
  },
  {
   "cell_type": "code",
   "execution_count": null,
   "id": "e6b91813",
   "metadata": {},
   "outputs": [],
   "source": [
    "america = 0\n",
    "asia = 0\n",
    "europe = 0\n",
    "africa = 0\n",
    "oceania = 0\n",
    "for i in tqdm(range(len(dfd))):\n",
    "    if dfa['region'][i]<=3:\n",
    "            america += 1\n",
    "    elif dfa['region'][i]<=7:\n",
    "            asia += 1\n",
    "    elif dfa['region'][i]<=9:\n",
    "            europe += 1\n",
    "    elif dfa['region'][i]<=11:\n",
    "            africa += 1\n",
    "    else:\n",
    "            oceania += 1    \n",
    "x = ['america', 'asia', 'europe', 'africa', 'oceania&australasia']\n",
    "y = [america, asia, europe, africa, oceania]\n",
    "plt.bar(x,y)\n",
    "for i, v in enumerate(x):\n",
    "    plt.text(v, y[i], y[i],                 # 좌표 (x축 = v, y축 = y[0]..y[1], 표시 = y[0]..y[1])\n",
    "             fontsize = 9, \n",
    "             color='blue',\n",
    "             horizontalalignment='center',  # horizontalalignment (left, center, right)\n",
    "             verticalalignment='bottom')    # verticalalignment (top, center, bottom)\n",
    "\n",
    "plt.show()"
   ]
  }
 ],
 "metadata": {
  "kernelspec": {
   "display_name": "Python 3 (ipykernel)",
   "language": "python",
   "name": "python3"
  },
  "language_info": {
   "codemirror_mode": {
    "name": "ipython",
    "version": 3
   },
   "file_extension": ".py",
   "mimetype": "text/x-python",
   "name": "python",
   "nbconvert_exporter": "python",
   "pygments_lexer": "ipython3",
   "version": "3.11.3"
  }
 },
 "nbformat": 4,
 "nbformat_minor": 5
}
