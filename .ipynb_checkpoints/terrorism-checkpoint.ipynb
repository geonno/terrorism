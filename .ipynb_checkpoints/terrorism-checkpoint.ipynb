{
 "cells": [
  {
   "cell_type": "markdown",
   "id": "70bed44b",
   "metadata": {},
   "source": [
    "## 모듈 임포트"
   ]
  },
  {
   "cell_type": "code",
   "execution_count": 2,
   "id": "f326f8cb",
   "metadata": {
    "ExecuteTime": {
     "end_time": "2023-06-04T13:29:27.860353Z",
     "start_time": "2023-06-04T13:29:27.834465Z"
    }
   },
   "outputs": [
    {
     "ename": "ModuleNotFoundError",
     "evalue": "No module named 'pandas'",
     "output_type": "error",
     "traceback": [
      "\u001b[1;31m---------------------------------------------------------------------------\u001b[0m",
      "\u001b[1;31mModuleNotFoundError\u001b[0m                       Traceback (most recent call last)",
      "Cell \u001b[1;32mIn[2], line 1\u001b[0m\n\u001b[1;32m----> 1\u001b[0m \u001b[38;5;28;01mimport\u001b[39;00m \u001b[38;5;21;01mpandas\u001b[39;00m \u001b[38;5;28;01mas\u001b[39;00m \u001b[38;5;21;01mpd\u001b[39;00m\n\u001b[0;32m      2\u001b[0m \u001b[38;5;28;01mfrom\u001b[39;00m \u001b[38;5;21;01mtqdm\u001b[39;00m\u001b[38;5;21;01m.\u001b[39;00m\u001b[38;5;21;01mnotebook\u001b[39;00m \u001b[38;5;28;01mimport\u001b[39;00m tqdm\n\u001b[0;32m      3\u001b[0m \u001b[38;5;28;01mimport\u001b[39;00m \u001b[38;5;21;01mmatplotlib\u001b[39;00m\u001b[38;5;21;01m.\u001b[39;00m\u001b[38;5;21;01mpyplot\u001b[39;00m \u001b[38;5;28;01mas\u001b[39;00m \u001b[38;5;21;01mplt\u001b[39;00m\n",
      "\u001b[1;31mModuleNotFoundError\u001b[0m: No module named 'pandas'"
     ]
    }
   ],
   "source": [
    "import pandas as pd\n",
    "from tqdm.notebook import tqdm\n",
    "import matplotlib.pyplot as plt"
   ]
  },
  {
   "cell_type": "markdown",
   "id": "5ac8dcf4",
   "metadata": {
    "heading_collapsed": true
   },
   "source": [
    "## 1. 데이터 전처리"
   ]
  },
  {
   "cell_type": "markdown",
   "id": "1c85eee0",
   "metadata": {
    "hidden": true
   },
   "source": [
    "1. 필요없는 컬럼 삭제\n",
    "2. 5년 단위로 나누기"
   ]
  },
  {
   "cell_type": "code",
   "execution_count": null,
   "id": "c72ea90b",
   "metadata": {
    "ExecuteTime": {
     "end_time": "2023-06-04T13:29:27.865886Z",
     "start_time": "2023-06-04T13:29:27.865886Z"
    },
    "hidden": true
   },
   "outputs": [],
   "source": [
    "df = pd.read_excel(\"E:/백업/경찰대학/4-1/경비론/gtdb70-20.xlsx\")"
   ]
  },
  {
   "cell_type": "code",
   "execution_count": null,
   "id": "e757cdcb",
   "metadata": {
    "ExecuteTime": {
     "end_time": "2023-06-04T13:29:27.866914Z",
     "start_time": "2023-06-04T13:29:27.866914Z"
    },
    "hidden": true
   },
   "outputs": [],
   "source": [
    "df.drop(['eventid','imonth', 'iday','latitude', 'longitude','targtype1', 'targtype1_txt', 'targsubtype1',\n",
    "       'targsubtype1_txt', 'corp1', 'target1','natlty1', 'natlty1_txt','propextent', 'propextent_txt',\n",
    "       'propvalue', 'dbsource','weapdetail'], axis=1, inplace=True)"
   ]
  },
  {
   "cell_type": "code",
   "execution_count": null,
   "id": "3a444ef4",
   "metadata": {
    "ExecuteTime": {
     "end_time": "2023-06-04T13:29:27.870146Z",
     "start_time": "2023-06-04T13:29:27.870146Z"
    },
    "hidden": true
   },
   "outputs": [],
   "source": [
    "df.sort_values('iyear', inplace=True)"
   ]
  },
  {
   "cell_type": "code",
   "execution_count": null,
   "id": "fb707892",
   "metadata": {
    "ExecuteTime": {
     "end_time": "2023-06-04T13:29:27.870146Z",
     "start_time": "2023-06-04T13:29:27.870146Z"
    },
    "hidden": true
   },
   "outputs": [],
   "source": [
    "df.drop(df.index[:71658], inplace =True)"
   ]
  },
  {
   "cell_type": "code",
   "execution_count": null,
   "id": "443b484e",
   "metadata": {
    "ExecuteTime": {
     "end_time": "2023-06-04T13:29:27.870146Z",
     "start_time": "2023-06-04T13:29:27.870146Z"
    },
    "hidden": true
   },
   "outputs": [],
   "source": [
    "df.reset_index(drop=True, inplace=True)"
   ]
  },
  {
   "cell_type": "code",
   "execution_count": null,
   "id": "33aa07ec",
   "metadata": {
    "ExecuteTime": {
     "end_time": "2023-06-04T13:29:27.876626Z",
     "start_time": "2023-06-04T13:29:27.876626Z"
    },
    "hidden": true
   },
   "outputs": [],
   "source": [
    "dfa = df[:7702]\n",
    "dfb = df[7702:28060]\n",
    "dfc = df[28060:85805]\n",
    "dfd = df[85805:]"
   ]
  },
  {
   "cell_type": "code",
   "execution_count": null,
   "id": "20b8f906",
   "metadata": {
    "ExecuteTime": {
     "end_time": "2023-06-04T13:29:27.879631Z",
     "start_time": "2023-06-04T13:29:27.879631Z"
    },
    "hidden": true
   },
   "outputs": [],
   "source": [
    "dfa.reset_index(drop=True, inplace=True)\n",
    "dfb.reset_index(drop=True, inplace=True)\n",
    "dfc.reset_index(drop=True, inplace=True)\n",
    "dfd.reset_index(drop=True, inplace=True)"
   ]
  },
  {
   "cell_type": "markdown",
   "id": "bb9f4ac6",
   "metadata": {},
   "source": [
    "## 2.1 통계분석 - 대륙별 통계분석"
   ]
  },
  {
   "cell_type": "markdown",
   "id": "b508ec65",
   "metadata": {},
   "source": [
    "1 = North America\n",
    "2 = Central America & Caribbean\n",
    "3 = South America\n",
    "4 = East Asia\n",
    "5 = Southeast Asia\n",
    "6 = South Asia\n",
    "7 = Central Asia\n",
    "8 = Western Europe\n",
    "9 = Eastern Europe\n",
    "10 = Middle East & North Africa\n",
    "11 = Sub-Saharan Africa\n",
    "12 = Australasia & Oceania\n",
    "\n",
    "1..3 -> america\n",
    "4..7 -> asia\n",
    "8..9 -> europe\n",
    "10..11 -> africa\n",
    "12 -> Australasia & Oceania"
   ]
  },
  {
   "cell_type": "markdown",
   "id": "86b6d49d",
   "metadata": {},
   "source": [
    "### 2.1.1 대륙별 테러 수 통계내기"
   ]
  },
  {
   "cell_type": "markdown",
   "id": "febbed56",
   "metadata": {
    "heading_collapsed": true
   },
   "source": [
    "#### 2.1.1.1 2001~2005"
   ]
  },
  {
   "cell_type": "code",
   "execution_count": null,
   "id": "c3a58f2e",
   "metadata": {
    "ExecuteTime": {
     "end_time": "2023-06-04T13:29:27.881630Z",
     "start_time": "2023-06-04T13:29:27.881630Z"
    },
    "hidden": true,
    "scrolled": true
   },
   "outputs": [],
   "source": [
    "america = 0\n",
    "asia = 0\n",
    "europe = 0\n",
    "africa = 0\n",
    "oceania = 0\n",
    "for i in tqdm(range(len(dfa))):\n",
    "    if dfa['region'][i]<=3:\n",
    "            america += 1\n",
    "    elif dfa['region'][i]<=7:\n",
    "            asia += 1\n",
    "    elif dfa['region'][i]<=9:\n",
    "            europe += 1\n",
    "    elif dfa['region'][i]<=11:\n",
    "            africa += 1\n",
    "    else:\n",
    "            oceania += 1    \n",
    "x = ['america', 'asia', 'europe', 'africa', 'oceania&australasia']\n",
    "y = [america, asia, europe, africa, oceania]\n",
    "plt.bar(x,y)\n",
    "for i, v in enumerate(x):\n",
    "    plt.text(v, y[i], y[i],                 # 좌표 (x축 = v, y축 = y[0]..y[1], 표시 = y[0]..y[1])\n",
    "             fontsize = 9, \n",
    "             color='blue',\n",
    "             horizontalalignment='center',  # horizontalalignment (left, center, right)\n",
    "             verticalalignment='bottom')    # verticalalignment (top, center, bottom)\n",
    "\n",
    "plt.show()"
   ]
  },
  {
   "cell_type": "markdown",
   "id": "6d17a7d3",
   "metadata": {
    "heading_collapsed": true
   },
   "source": [
    "#### 2.1.1.1 2006~2010"
   ]
  },
  {
   "cell_type": "code",
   "execution_count": null,
   "id": "1bbd6806",
   "metadata": {
    "ExecuteTime": {
     "end_time": "2023-06-04T13:29:27.883630Z",
     "start_time": "2023-06-04T13:29:27.883630Z"
    },
    "hidden": true
   },
   "outputs": [],
   "source": [
    "america = 0\n",
    "asia = 0\n",
    "europe = 0\n",
    "africa = 0\n",
    "oceania = 0\n",
    "for i in tqdm(range(len(dfb))):\n",
    "    if dfb['region'][i]<=3:\n",
    "            america += 1\n",
    "    elif dfb['region'][i]<=7:\n",
    "            asia += 1\n",
    "    elif dfb['region'][i]<=9:\n",
    "            europe += 1\n",
    "    elif dfb['region'][i]<=11:\n",
    "            africa += 1\n",
    "    else:\n",
    "            oceania += 1    \n",
    "x = ['america', 'asia', 'europe', 'africa', 'oceania&australasia']\n",
    "y = [america, asia, europe, africa, oceania]\n",
    "plt.bar(x,y)\n",
    "for i, v in enumerate(x):\n",
    "    plt.text(v, y[i], y[i],                 # 좌표 (x축 = v, y축 = y[0]..y[1], 표시 = y[0]..y[1])\n",
    "             fontsize = 9, \n",
    "             color='blue',\n",
    "             horizontalalignment='center',  # horizontalalignment (left, center, right)\n",
    "             verticalalignment='bottom')    # verticalalignment (top, center, bottom)\n",
    "\n",
    "plt.show()"
   ]
  },
  {
   "cell_type": "markdown",
   "id": "f7377398",
   "metadata": {
    "heading_collapsed": true
   },
   "source": [
    "#### 2.1.1.1 2011~2015"
   ]
  },
  {
   "cell_type": "code",
   "execution_count": null,
   "id": "616f03a0",
   "metadata": {
    "ExecuteTime": {
     "end_time": "2023-06-04T13:29:27.883965Z",
     "start_time": "2023-06-04T13:29:27.883965Z"
    },
    "hidden": true
   },
   "outputs": [],
   "source": [
    "america = 0\n",
    "asia = 0\n",
    "europe = 0\n",
    "africa = 0\n",
    "oceania = 0\n",
    "for i in tqdm(range(len(dfc))):\n",
    "    if dfc['region'][i]<=3:\n",
    "            america += 1\n",
    "    elif dfc['region'][i]<=7:\n",
    "            asia += 1\n",
    "    elif dfc['region'][i]<=9:\n",
    "            europe += 1\n",
    "    elif dfc['region'][i]<=11:\n",
    "            africa += 1\n",
    "    else:\n",
    "            oceania += 1    \n",
    "x = ['america', 'asia', 'europe', 'africa', 'oceania&australasia']\n",
    "y = [america, asia, europe, africa, oceania]\n",
    "plt.bar(x,y)\n",
    "for i, v in enumerate(x):\n",
    "    plt.text(v, y[i], y[i],                 # 좌표 (x축 = v, y축 = y[0]..y[1], 표시 = y[0]..y[1])\n",
    "             fontsize = 9, \n",
    "             color='blue',\n",
    "             horizontalalignment='center',  # horizontalalignment (left, center, right)\n",
    "             verticalalignment='bottom')    # verticalalignment (top, center, bottom)\n",
    "\n",
    "plt.show()"
   ]
  },
  {
   "cell_type": "markdown",
   "id": "a7d60cbb",
   "metadata": {},
   "source": [
    "#### 2.1.1.1 2016~2020"
   ]
  },
  {
   "cell_type": "code",
   "execution_count": null,
   "id": "e6b91813",
   "metadata": {
    "ExecuteTime": {
     "end_time": "2023-06-04T13:29:27.883965Z",
     "start_time": "2023-06-04T13:29:27.883965Z"
    }
   },
   "outputs": [],
   "source": [
    "america = 0\n",
    "asia = 0\n",
    "europe = 0\n",
    "africa = 0\n",
    "oceania = 0\n",
    "for i in tqdm(range(len(dfd))):\n",
    "    if dfd['region'][i]<=3:\n",
    "            america += 1\n",
    "    elif dfd['region'][i]<=7:\n",
    "            asia += 1\n",
    "    elif dfd['region'][i]<=9:\n",
    "            europe += 1\n",
    "    elif dfd['region'][i]<=11:\n",
    "            africa += 1\n",
    "    else:\n",
    "            oceania += 1    \n",
    "x = ['america', 'asia', 'europe', 'africa', 'oceania&australasia']\n",
    "y = [america, asia, europe, africa, oceania]\n",
    "plt.bar(x,y)\n",
    "for i, v in enumerate(x):\n",
    "    plt.text(v, y[i], y[i],                 # 좌표 (x축 = v, y축 = y[0]..y[1], 표시 = y[0]..y[1])\n",
    "             fontsize = 9, \n",
    "             color='blue',\n",
    "             horizontalalignment='center',  # horizontalalignment (left, center, right)\n",
    "             verticalalignment='bottom')    # verticalalignment (top, center, bottom)\n",
    "\n",
    "plt.show()"
   ]
  }
 ],
 "metadata": {
  "kernelspec": {
   "display_name": "Python 3 (ipykernel)",
   "language": "python",
   "name": "python3"
  },
  "language_info": {
   "codemirror_mode": {
    "name": "ipython",
    "version": 3
   },
   "file_extension": ".py",
   "mimetype": "text/x-python",
   "name": "python",
   "nbconvert_exporter": "python",
   "pygments_lexer": "ipython3",
   "version": "3.11.2"
  },
  "toc": {
   "base_numbering": 1,
   "nav_menu": {},
   "number_sections": true,
   "sideBar": true,
   "skip_h1_title": false,
   "title_cell": "Table of Contents",
   "title_sidebar": "Contents",
   "toc_cell": false,
   "toc_position": {},
   "toc_section_display": true,
   "toc_window_display": false
  },
  "varInspector": {
   "cols": {
    "lenName": 16,
    "lenType": 16,
    "lenVar": 40
   },
   "kernels_config": {
    "python": {
     "delete_cmd_postfix": "",
     "delete_cmd_prefix": "del ",
     "library": "var_list.py",
     "varRefreshCmd": "print(var_dic_list())"
    },
    "r": {
     "delete_cmd_postfix": ") ",
     "delete_cmd_prefix": "rm(",
     "library": "var_list.r",
     "varRefreshCmd": "cat(var_dic_list()) "
    }
   },
   "types_to_exclude": [
    "module",
    "function",
    "builtin_function_or_method",
    "instance",
    "_Feature"
   ],
   "window_display": false
  }
 },
 "nbformat": 4,
 "nbformat_minor": 5
}
